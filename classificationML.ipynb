{
 "cells": [
  {
   "cell_type": "code",
   "execution_count": 1,
   "metadata": {},
   "outputs": [],
   "source": [
    "# import necessary libraries\n",
    "import pandas as pd \n",
    "import numpy as np\n",
    "import nltk\n",
    "import warnings\n",
    "warnings.filterwarnings('ignore')\n",
    "from nltk.corpus import stopwords\n",
    "from textblob import TextBlob,Word\n",
    "from nltk.stem import PorterStemmer\n",
    "from sklearn.preprocessing import LabelEncoder\n",
    "from sklearn.model_selection import train_test_split\n",
    "from sklearn.feature_extraction.text import CountVectorizer,TfidfTransformer\n",
    "from sklearn.pipeline import Pipeline\n",
    "from sklearn.naive_bayes import MultinomialNB\n",
    "import pickle"
   ]
  },
  {
   "cell_type": "markdown",
   "metadata": {},
   "source": [
    "Dataset Link: https://www.kaggle.com/yufengdev/bbc-fulltext-and-category"
   ]
  },
  {
   "cell_type": "code",
   "execution_count": 2,
   "metadata": {},
   "outputs": [
    {
     "data": {
      "text/html": [
       "<div>\n",
       "<style scoped>\n",
       "    .dataframe tbody tr th:only-of-type {\n",
       "        vertical-align: middle;\n",
       "    }\n",
       "\n",
       "    .dataframe tbody tr th {\n",
       "        vertical-align: top;\n",
       "    }\n",
       "\n",
       "    .dataframe thead th {\n",
       "        text-align: right;\n",
       "    }\n",
       "</style>\n",
       "<table border=\"1\" class=\"dataframe\">\n",
       "  <thead>\n",
       "    <tr style=\"text-align: right;\">\n",
       "      <th></th>\n",
       "      <th>category</th>\n",
       "      <th>text</th>\n",
       "    </tr>\n",
       "  </thead>\n",
       "  <tbody>\n",
       "    <tr>\n",
       "      <th>0</th>\n",
       "      <td>tech</td>\n",
       "      <td>tv future in the hands of viewers with home th...</td>\n",
       "    </tr>\n",
       "    <tr>\n",
       "      <th>1</th>\n",
       "      <td>business</td>\n",
       "      <td>worldcom boss  left books alone  former worldc...</td>\n",
       "    </tr>\n",
       "    <tr>\n",
       "      <th>2</th>\n",
       "      <td>sport</td>\n",
       "      <td>tigers wary of farrell  gamble  leicester say ...</td>\n",
       "    </tr>\n",
       "    <tr>\n",
       "      <th>3</th>\n",
       "      <td>sport</td>\n",
       "      <td>yeading face newcastle in fa cup premiership s...</td>\n",
       "    </tr>\n",
       "    <tr>\n",
       "      <th>4</th>\n",
       "      <td>entertainment</td>\n",
       "      <td>ocean s twelve raids box office ocean s twelve...</td>\n",
       "    </tr>\n",
       "    <tr>\n",
       "      <th>...</th>\n",
       "      <td>...</td>\n",
       "      <td>...</td>\n",
       "    </tr>\n",
       "    <tr>\n",
       "      <th>2220</th>\n",
       "      <td>business</td>\n",
       "      <td>cars pull down us retail figures us retail sal...</td>\n",
       "    </tr>\n",
       "    <tr>\n",
       "      <th>2221</th>\n",
       "      <td>politics</td>\n",
       "      <td>kilroy unveils immigration policy ex-chatshow ...</td>\n",
       "    </tr>\n",
       "    <tr>\n",
       "      <th>2222</th>\n",
       "      <td>entertainment</td>\n",
       "      <td>rem announce new glasgow concert us band rem h...</td>\n",
       "    </tr>\n",
       "    <tr>\n",
       "      <th>2223</th>\n",
       "      <td>politics</td>\n",
       "      <td>how political squabbles snowball it s become c...</td>\n",
       "    </tr>\n",
       "    <tr>\n",
       "      <th>2224</th>\n",
       "      <td>sport</td>\n",
       "      <td>souness delight at euro progress boss graeme s...</td>\n",
       "    </tr>\n",
       "  </tbody>\n",
       "</table>\n",
       "<p>2225 rows × 2 columns</p>\n",
       "</div>"
      ],
      "text/plain": [
       "           category                                               text\n",
       "0              tech  tv future in the hands of viewers with home th...\n",
       "1          business  worldcom boss  left books alone  former worldc...\n",
       "2             sport  tigers wary of farrell  gamble  leicester say ...\n",
       "3             sport  yeading face newcastle in fa cup premiership s...\n",
       "4     entertainment  ocean s twelve raids box office ocean s twelve...\n",
       "...             ...                                                ...\n",
       "2220       business  cars pull down us retail figures us retail sal...\n",
       "2221       politics  kilroy unveils immigration policy ex-chatshow ...\n",
       "2222  entertainment  rem announce new glasgow concert us band rem h...\n",
       "2223       politics  how political squabbles snowball it s become c...\n",
       "2224          sport  souness delight at euro progress boss graeme s...\n",
       "\n",
       "[2225 rows x 2 columns]"
      ]
     },
     "execution_count": 2,
     "metadata": {},
     "output_type": "execute_result"
    }
   ],
   "source": [
    "# read the csv file \n",
    "df=pd.read_csv(r'C:\\Users\\MiMs\\Desktop\\fileorg-ML\\dataset\\bbc-text.csv',encoding=\"ISO-8859-1\")\n",
    "#df1=df.copy()\n",
    "#df2=df.copy()\n",
    "#df3=df.copy()\n",
    "#df= df3['title'].str.cat(df3['subtitle'],sep=\" \")\n",
    "\n",
    "#del df1['subtitle']\n",
    "#del df2['title']\n",
    "#df = df1.append(df2.rename(columns={\"subtitle\":\"title\"}).dropna().copy(),ignore_index = True).copy()\n",
    "\n",
    "#A=df.category.unique()\n",
    "#df=df.rename(columns={\"level2\":\"category\"})\n",
    "A=df.category.unique()\n",
    "df"
   ]
  },
  {
   "cell_type": "code",
   "execution_count": 3,
   "metadata": {},
   "outputs": [
    {
     "data": {
      "text/plain": [
       "category    False\n",
       "text        False\n",
       "dtype: bool"
      ]
     },
     "execution_count": 3,
     "metadata": {},
     "output_type": "execute_result"
    }
   ],
   "source": [
    "# to check null values \n",
    "df.isna().any()"
   ]
  },
  {
   "cell_type": "code",
   "execution_count": 4,
   "metadata": {},
   "outputs": [
    {
     "data": {
      "text/plain": [
       "0       4\n",
       "1       0\n",
       "2       3\n",
       "3       3\n",
       "4       1\n",
       "       ..\n",
       "2220    0\n",
       "2221    2\n",
       "2222    1\n",
       "2223    2\n",
       "2224    3\n",
       "Name: category, Length: 2225, dtype: int32"
      ]
     },
     "execution_count": 4,
     "metadata": {},
     "output_type": "execute_result"
    }
   ],
   "source": [
    "# label the string values at the target values\n",
    "le=LabelEncoder()\n",
    "le.fit(df['category'])\n",
    "df['category']=le.transform(df['category'])\n",
    "df['category']"
   ]
  },
  {
   "cell_type": "markdown",
   "metadata": {},
   "source": [
    "## label encoding \n",
    "business-0|\n",
    "entertainment-1| \n",
    "politics-2|\n",
    "sport-3|\n",
    "tech-4"
   ]
  },
  {
   "cell_type": "code",
   "execution_count": 6,
   "metadata": {},
   "outputs": [
    {
     "name": "stdout",
     "output_type": "stream",
     "text": [
      "                                                text  stopwords_count\n",
      "0  tv future in the hands of viewers with home th...              325\n",
      "1  worldcom boss  left books alone  former worldc...              108\n",
      "2  tigers wary of farrell  gamble  leicester say ...              116\n",
      "3  yeading face newcastle in fa cup premiership s...               74\n",
      "4  ocean s twelve raids box office ocean s twelve...               81\n"
     ]
    }
   ],
   "source": [
    "# count the stopwords\n",
    "stop = stopwords.words('english')\n",
    "def stop_word(df):\n",
    "    df['stopwords_count']=df['text'].apply(lambda x : len([x for x in x.split() if x in stop]))\n",
    "    print(df[['text','stopwords_count']].head())\n",
    "stop_word(df)"
   ]
  },
  {
   "cell_type": "code",
   "execution_count": 7,
   "metadata": {},
   "outputs": [
    {
     "name": "stdout",
     "output_type": "stream",
     "text": [
      "                                                text  count_digits\n",
      "0  tv future in the hands of viewers with home th...             3\n",
      "1  worldcom boss  left books alone  former worldc...             3\n",
      "2  tigers wary of farrell  gamble  leicester say ...             0\n",
      "3  yeading face newcastle in fa cup premiership s...             0\n",
      "4  ocean s twelve raids box office ocean s twelve...             1\n"
     ]
    }
   ],
   "source": [
    "# count the no of digits \n",
    "def digits(df):\n",
    "    df['count_digits']=df['text'].apply(lambda x: len([x for x in x.split() if x.isdigit()]))\n",
    "    print(df[['text','count_digits']].head())\n",
    "digits(df)"
   ]
  },
  {
   "cell_type": "code",
   "execution_count": 8,
   "metadata": {},
   "outputs": [
    {
     "name": "stdout",
     "output_type": "stream",
     "text": [
      "                                                   text  count_uppercase\n",
      "2220  cars pull down us retail figures us retail sal...                0\n",
      "2221  kilroy unveils immigration policy ex-chatshow ...                1\n",
      "2222  rem announce new glasgow concert us band rem h...                0\n",
      "2223  how political squabbles snowball it s become c...                0\n",
      "2224  souness delight at euro progress boss graeme s...                0\n"
     ]
    },
    {
     "data": {
      "text/plain": [
       "485"
      ]
     },
     "execution_count": 8,
     "metadata": {},
     "output_type": "execute_result"
    }
   ],
   "source": [
    "# to count the no of uppercases\n",
    "def upper_case(df):\n",
    "    df['count_uppercase']=df['text'].apply(lambda x: len([x for x in x.split() if x.isupper()]))\n",
    "    print(df[['text','count_uppercase']].tail())\n",
    "upper_case(df)\n",
    "df['count_uppercase'].sum()"
   ]
  },
  {
   "cell_type": "code",
   "execution_count": 9,
   "metadata": {},
   "outputs": [
    {
     "name": "stdout",
     "output_type": "stream",
     "text": [
      "0    tv future in the hands of viewers with home th...\n",
      "1    worldcom boss  left books alone  former worldc...\n",
      "2    tigers wary of farrell  gamble  leicester say ...\n",
      "3    yeading face newcastle in fa cup premiership s...\n",
      "4    ocean s twelve raids box office ocean s twelve...\n",
      "Name: text, dtype: object\n"
     ]
    }
   ],
   "source": [
    "# to remove punctuation from tweet\n",
    "def punctuation_removal(df):\n",
    "#     ^ : works like NOT operator\n",
    "#     \\w : Returns a match where the string contains any word characters \n",
    "#     \\s: for whitespace\n",
    "    df['text']=df['text'].str.replace('[^\\w\\s]','')\n",
    "    print(df['text'].head())\n",
    "punctuation_removal(df)"
   ]
  },
  {
   "cell_type": "code",
   "execution_count": 10,
   "metadata": {},
   "outputs": [
    {
     "name": "stdout",
     "output_type": "stream",
     "text": [
      "0    tv future hands viewers home theatre systems p...\n",
      "1    worldcom boss left books alone former worldcom...\n",
      "2    tigers wary farrell gamble leicester say rushe...\n",
      "3    yeading face newcastle fa cup premiership side...\n",
      "4    ocean twelve raids box office ocean twelve cri...\n",
      "Name: text, dtype: object\n"
     ]
    }
   ],
   "source": [
    "# removal of stopwords \n",
    "def remove_stopwords(df):\n",
    "    df['text']=df['text'].apply(lambda x: \" \".join(x for x in x.split() if x not in stop))\n",
    "    print(df['text'].head())\n",
    "remove_stopwords(df)\n"
   ]
  },
  {
   "cell_type": "code",
   "execution_count": 11,
   "metadata": {},
   "outputs": [
    {
     "name": "stdout",
     "output_type": "stream",
     "text": [
      "                                                text  stopwords_count\n",
      "0  tv future hands viewers home theatre systems p...                0\n",
      "1  worldcom boss left books alone former worldcom...                0\n",
      "2  tigers wary farrell gamble leicester say rushe...                0\n",
      "3  yeading face newcastle fa cup premiership side...                0\n",
      "4  ocean twelve raids box office ocean twelve cri...                0\n"
     ]
    }
   ],
   "source": [
    "stop_word(df)"
   ]
  },
  {
   "cell_type": "code",
   "execution_count": 12,
   "metadata": {},
   "outputs": [
    {
     "data": {
      "text/plain": [
       "said      7254\n",
       "mr        3004\n",
       "would     2577\n",
       "also      2156\n",
       "people    2043\n",
       "new       1970\n",
       "us        1924\n",
       "year      1829\n",
       "one       1763\n",
       "could     1511\n",
       "dtype: int64"
      ]
     },
     "execution_count": 12,
     "metadata": {},
     "output_type": "execute_result"
    }
   ],
   "source": [
    "# to check the frequent words \n",
    "frequent = pd.Series(' '.join(df['text']).split()).value_counts()[:10]\n",
    "frequent"
   ]
  },
  {
   "cell_type": "code",
   "execution_count": 13,
   "metadata": {},
   "outputs": [
    {
     "name": "stdout",
     "output_type": "stream",
     "text": [
      "0    tv future hands viewers home theatre systems p...\n",
      "1    worldcom boss left books alone former worldcom...\n",
      "2    tigers wary farrell gamble leicester say rushe...\n",
      "3    yeading face newcastle fa cup premiership side...\n",
      "4    ocean twelve raids box office ocean twelve cri...\n",
      "Name: text, dtype: object\n"
     ]
    }
   ],
   "source": [
    "# removal of frequent words \n",
    "frequent=list(frequent.index)\n",
    "def remove_frequent_words(df):\n",
    "    df['text']=df['text'].apply(lambda x: \" \".join(x for x in x.split() if x not in frequent))\n",
    "    print(df['text'].head())\n",
    "remove_frequent_words(df)"
   ]
  },
  {
   "cell_type": "code",
   "execution_count": 14,
   "metadata": {},
   "outputs": [
    {
     "data": {
      "text/plain": [
       "0    tv futur hand viewer home theatr system plasma...\n",
       "1    worldcom boss left book alon former worldcom b...\n",
       "2    tiger wari farrel gambl leicest say rush make ...\n",
       "3    yead face newcastl fa cup premiership side new...\n",
       "4    ocean twelv raid box offic ocean twelv crime c...\n",
       "Name: text, dtype: object"
      ]
     },
     "execution_count": 14,
     "metadata": {},
     "output_type": "execute_result"
    }
   ],
   "source": [
    "# steamming\n",
    "st= PorterStemmer()\n",
    "def steamming(df):\n",
    "    return df['text'][0:5].apply(lambda x: \" \".join(st.stem(word) for word in x.split()))\n",
    "steamming(df)"
   ]
  },
  {
   "cell_type": "code",
   "execution_count": 15,
   "metadata": {},
   "outputs": [
    {
     "name": "stdout",
     "output_type": "stream",
     "text": [
      "0    tv future hand viewer home theatre system plas...\n",
      "1    worldcom bos left book alone former worldcom b...\n",
      "2    tiger wary farrell gamble leicester say rushed...\n",
      "3    yeading face newcastle fa cup premiership side...\n",
      "4    ocean twelve raid box office ocean twelve crim...\n",
      "Name: text, dtype: object\n"
     ]
    }
   ],
   "source": [
    "# lemmatization\n",
    "def lemmatization(df):\n",
    "    df['text']=df['text'].apply(lambda x: \" \".join([Word(word).lemmatize() for word in x.split()]))\n",
    "    print(df['text'].head())\n",
    "lemmatization(df)"
   ]
  },
  {
   "cell_type": "code",
   "execution_count": 16,
   "metadata": {},
   "outputs": [],
   "source": [
    "# splitting the dataset\n",
    "x=df['text']\n",
    "y=df['category']\n",
    "x_train,x_test,y_train,y_test=train_test_split(x,y,test_size=0.2, random_state=0)"
   ]
  },
  {
   "cell_type": "code",
   "execution_count": 17,
   "metadata": {},
   "outputs": [
    {
     "data": {
      "text/plain": [
       "384     drive save festive holiday effort made protect...\n",
       "1983    official respond court row australian tennis t...\n",
       "985     cup holder man utd visit everton holder manche...\n",
       "1386    adriano chelsea link rejected adriano agent gi...\n",
       "1294    driscollgregan lead aid star ireland brian dri...\n",
       "                              ...                        \n",
       "438     sa return mauritius top seed south africa retu...\n",
       "299     ireland surge past scot ireland maintained six...\n",
       "1285    police probe bnp mosque leaflet police investi...\n",
       "1505    rover deal may cost 2 000 job 2 000 job mg rov...\n",
       "2035    kelly holmes last april kelly holmes spoke bbc...\n",
       "Name: text, Length: 445, dtype: object"
      ]
     },
     "execution_count": 17,
     "metadata": {},
     "output_type": "execute_result"
    }
   ],
   "source": [
    "x_test"
   ]
  },
  {
   "cell_type": "code",
   "execution_count": 18,
   "metadata": {},
   "outputs": [
    {
     "name": "stdout",
     "output_type": "stream",
     "text": [
      "[2]\n"
     ]
    }
   ],
   "source": [
    "classi = Pipeline([\n",
    "    ('vect', CountVectorizer()),\n",
    "    ('tfidf', TfidfTransformer()),\n",
    "    ('clf', MultinomialNB()),\n",
    "])\n",
    "classi.fit(x_train,y_train)\n",
    "print(classi.predict(['kilroy unveils immigration policy ex-chatshow']))"
   ]
  },
  {
   "cell_type": "code",
   "execution_count": 19,
   "metadata": {},
   "outputs": [],
   "source": [
    "# Save the Modle to file in the current working directory\n",
    "with open('classification_model','wb') as file:\n",
    "    pickle.dump(classi,file)"
   ]
  },
  {
   "cell_type": "code",
   "execution_count": 20,
   "metadata": {},
   "outputs": [
    {
     "data": {
      "text/plain": [
       "Pipeline(memory=None,\n",
       "         steps=[('vect',\n",
       "                 CountVectorizer(analyzer='word', binary=False,\n",
       "                                 decode_error='strict',\n",
       "                                 dtype=<class 'numpy.int64'>, encoding='utf-8',\n",
       "                                 input='content', lowercase=True, max_df=1.0,\n",
       "                                 max_features=None, min_df=1,\n",
       "                                 ngram_range=(1, 1), preprocessor=None,\n",
       "                                 stop_words=None, strip_accents=None,\n",
       "                                 token_pattern='(?u)\\\\b\\\\w\\\\w+\\\\b',\n",
       "                                 tokenizer=None, vocabulary=None)),\n",
       "                ('tfidf',\n",
       "                 TfidfTransformer(norm='l2', smooth_idf=True,\n",
       "                                  sublinear_tf=False, use_idf=True)),\n",
       "                ('clf',\n",
       "                 MultinomialNB(alpha=1.0, class_prior=None, fit_prior=True))],\n",
       "         verbose=False)"
      ]
     },
     "execution_count": 20,
     "metadata": {},
     "output_type": "execute_result"
    }
   ],
   "source": [
    "with open('classification_model','rb') as file:\n",
    "    pickled_model=pickle.load(file)\n",
    "pickled_model"
   ]
  },
  {
   "cell_type": "code",
   "execution_count": 21,
   "metadata": {},
   "outputs": [
    {
     "data": {
      "text/plain": [
       "array([4, 3, 0])"
      ]
     },
     "execution_count": 21,
     "metadata": {},
     "output_type": "execute_result"
    }
   ],
   "source": [
    "pickled_model.predict(['tv future in the hands of viewers with home','barcelona has scored a goal ','worldcom boss left books alone former'])"
   ]
  },
  {
   "cell_type": "code",
   "execution_count": 22,
   "metadata": {},
   "outputs": [
    {
     "data": {
      "text/plain": [
       "array([4, 3, 0])"
      ]
     },
     "execution_count": 22,
     "metadata": {},
     "output_type": "execute_result"
    }
   ],
   "source": [
    "classi.predict(['tv future in the hands of viewers with home','barcelona has scored a goal ','worldcom boss left books alone former'])"
   ]
  },
  {
   "cell_type": "code",
   "execution_count": 23,
   "metadata": {},
   "outputs": [
    {
     "data": {
      "text/plain": [
       "array(['tech', 'business', 'sport', 'entertainment', 'politics'],\n",
       "      dtype=object)"
      ]
     },
     "execution_count": 23,
     "metadata": {},
     "output_type": "execute_result"
    }
   ],
   "source": [
    "A"
   ]
  }
 ],
 "metadata": {
  "kernelspec": {
   "display_name": "Python 3",
   "language": "python",
   "name": "python3"
  },
  "language_info": {
   "codemirror_mode": {
    "name": "ipython",
    "version": 3
   },
   "file_extension": ".py",
   "mimetype": "text/x-python",
   "name": "python",
   "nbconvert_exporter": "python",
   "pygments_lexer": "ipython3",
   "version": "3.7.6"
  }
 },
 "nbformat": 4,
 "nbformat_minor": 4
}
